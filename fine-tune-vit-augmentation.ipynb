{
 "cells": [
  {
   "cell_type": "code",
   "execution_count": 1,
   "metadata": {},
   "outputs": [
    {
     "name": "stderr",
     "output_type": "stream",
     "text": [
      "/home/clap/Documents/www/bean-leaf-classification-transformer/.venv/lib/python3.10/site-packages/tqdm/auto.py:21: TqdmWarning: IProgress not found. Please update jupyter and ipywidgets. See https://ipywidgets.readthedocs.io/en/stable/user_install.html\n",
      "  from .autonotebook import tqdm as notebook_tqdm\n",
      "/home/clap/Documents/www/bean-leaf-classification-transformer/.venv/lib/python3.10/site-packages/transformers/models/vit/feature_extraction_vit.py:28: FutureWarning: The class ViTFeatureExtractor is deprecated and will be removed in version 5 of Transformers. Please use ViTImageProcessor instead.\n",
      "  warnings.warn(\n"
     ]
    }
   ],
   "source": [
    "\n",
    "from datasets import load_dataset\n",
    "from transformers import ViTFeatureExtractor, ViTForImageClassification, Trainer, TrainingArguments\n",
    "from sklearn.metrics import accuracy_score, precision_recall_fscore_support\n",
    "from torchvision import transforms\n",
    "import torch\n",
    "import numpy as np\n",
    "\n",
    "beans_data = load_dataset(\"beans\")\n",
    "feature_extractor = ViTFeatureExtractor.from_pretrained(\"google/vit-base-patch16-224\")\n"
   ]
  },
  {
   "cell_type": "code",
   "execution_count": 2,
   "metadata": {},
   "outputs": [],
   "source": [
    "train_transform = transforms.Compose([\n",
    "    transforms.RandomHorizontalFlip(p=0.5),\n",
    "    transforms.RandomRotation(degrees=15),\n",
    "    transforms.RandomResizedCrop(size=224, scale=(0.8, 1.0)),  # Resize to ViT input size\n",
    "    transforms.ColorJitter(brightness=0.5, contrast=0.5),\n",
    "    transforms.ToTensor(),\n",
    "    transforms.Normalize(mean=feature_extractor.image_mean, std=feature_extractor.image_std),\n",
    "])\n",
    "\n",
    "val_test_transform = transforms.Compose([\n",
    "    transforms.Resize((224, 224)),\n",
    "    transforms.ToTensor(),\n",
    "    transforms.Normalize(mean=feature_extractor.image_mean, std=feature_extractor.image_std),\n",
    "])\n",
    "def preprocess_data_with_torchvision(examples, transform):\n",
    "    processed_images = []\n",
    "    for image in examples[\"image\"]:\n",
    "        # Apply the given transform\n",
    "        processed_image = transform(image)\n",
    "        processed_images.append(processed_image.numpy())\n",
    "    examples[\"pixel_values\"] = processed_images\n",
    "    return examples\n",
    "\n"
   ]
  },
  {
   "cell_type": "code",
   "execution_count": 3,
   "metadata": {},
   "outputs": [
    {
     "name": "stderr",
     "output_type": "stream",
     "text": [
      "Map: 100%|██████████| 1034/1034 [00:08<00:00, 120.45 examples/s]\n",
      "Map: 100%|██████████| 133/133 [00:00<00:00, 161.61 examples/s]\n",
      "Map: 100%|██████████| 128/128 [00:00<00:00, 164.23 examples/s]\n"
     ]
    }
   ],
   "source": [
    "# Apply data augmentation to train, and regular preprocessing to validation/test\n",
    "beans_data[\"train\"] = beans_data[\"train\"].map(\n",
    "    lambda examples: preprocess_data_with_torchvision(examples, train_transform), batched=True\n",
    ")\n",
    "beans_data[\"validation\"] = beans_data[\"validation\"].map(\n",
    "    lambda examples: preprocess_data_with_torchvision(examples, val_test_transform), batched=True\n",
    ")\n",
    "beans_data[\"test\"] = beans_data[\"test\"].map(\n",
    "    lambda examples: preprocess_data_with_torchvision(examples, val_test_transform), batched=True\n",
    ")\n",
    "\n",
    "# Step 5: Prepare Data for PyTorch\n",
    "beans_data[\"train\"] = beans_data[\"train\"].remove_columns([\"image\"])\n",
    "beans_data[\"validation\"] = beans_data[\"validation\"].remove_columns([\"image\"])\n",
    "beans_data[\"test\"] = beans_data[\"test\"].remove_columns([\"image\"])\n",
    "\n",
    "beans_data.set_format(\"torch\", columns=[\"pixel_values\", \"labels\"])\n"
   ]
  },
  {
   "cell_type": "code",
   "execution_count": 4,
   "metadata": {},
   "outputs": [
    {
     "name": "stderr",
     "output_type": "stream",
     "text": [
      "Some weights of ViTForImageClassification were not initialized from the model checkpoint at google/vit-base-patch16-224 and are newly initialized because the shapes did not match:\n",
      "- classifier.bias: found shape torch.Size([1000]) in the checkpoint and torch.Size([3]) in the model instantiated\n",
      "- classifier.weight: found shape torch.Size([1000, 768]) in the checkpoint and torch.Size([3, 768]) in the model instantiated\n",
      "You should probably TRAIN this model on a down-stream task to be able to use it for predictions and inference.\n",
      "/home/clap/Documents/www/bean-leaf-classification-transformer/.venv/lib/python3.10/site-packages/transformers/training_args.py:1568: FutureWarning: `evaluation_strategy` is deprecated and will be removed in version 4.46 of 🤗 Transformers. Use `eval_strategy` instead\n",
      "  warnings.warn(\n",
      "/tmp/ipykernel_85006/3134278025.py:34: FutureWarning: `tokenizer` is deprecated and will be removed in version 5.0.0 for `Trainer.__init__`. Use `processing_class` instead.\n",
      "  trainer = Trainer(\n",
      "                                                \n",
      " 20%|██        | 65/325 [03:52<14:02,  3.24s/it]"
     ]
    },
    {
     "name": "stdout",
     "output_type": "stream",
     "text": [
      "{'eval_loss': 0.0313289612531662, 'eval_accuracy': 0.9924812030075187, 'eval_precision': 0.9926446551160509, 'eval_recall': 0.9924812030075187, 'eval_f1': 0.9924793036019379, 'eval_runtime': 10.3042, 'eval_samples_per_second': 12.907, 'eval_steps_per_second': 0.873, 'epoch': 1.0}\n"
     ]
    },
    {
     "name": "stderr",
     "output_type": "stream",
     "text": [
      "                                                 \n",
      " 40%|████      | 130/325 [08:03<10:38,  3.27s/it]"
     ]
    },
    {
     "name": "stdout",
     "output_type": "stream",
     "text": [
      "{'eval_loss': 0.1519923210144043, 'eval_accuracy': 0.9548872180451128, 'eval_precision': 0.958813700918964, 'eval_recall': 0.9548872180451128, 'eval_f1': 0.9542683062389063, 'eval_runtime': 10.6266, 'eval_samples_per_second': 12.516, 'eval_steps_per_second': 0.847, 'epoch': 2.0}\n"
     ]
    },
    {
     "name": "stderr",
     "output_type": "stream",
     "text": [
      "                                                 \n",
      " 60%|██████    | 195/325 [12:15<07:10,  3.31s/it]"
     ]
    },
    {
     "name": "stdout",
     "output_type": "stream",
     "text": [
      "{'eval_loss': 0.07789763808250427, 'eval_accuracy': 0.9774436090225563, 'eval_precision': 0.9788533834586466, 'eval_recall': 0.9774436090225563, 'eval_f1': 0.9774093678218316, 'eval_runtime': 10.6203, 'eval_samples_per_second': 12.523, 'eval_steps_per_second': 0.847, 'epoch': 3.0}\n"
     ]
    },
    {
     "name": "stderr",
     "output_type": "stream",
     "text": [
      "                                                 \n",
      " 80%|████████  | 260/325 [16:28<03:35,  3.32s/it]"
     ]
    },
    {
     "name": "stdout",
     "output_type": "stream",
     "text": [
      "{'eval_loss': 0.059278830885887146, 'eval_accuracy': 0.9849624060150376, 'eval_precision': 0.985602303631419, 'eval_recall': 0.9849624060150376, 'eval_f1': 0.9849510023795587, 'eval_runtime': 10.6362, 'eval_samples_per_second': 12.504, 'eval_steps_per_second': 0.846, 'epoch': 4.0}\n"
     ]
    },
    {
     "name": "stderr",
     "output_type": "stream",
     "text": [
      "                                                 \n",
      "100%|██████████| 325/325 [20:40<00:00,  3.32s/it]"
     ]
    },
    {
     "name": "stdout",
     "output_type": "stream",
     "text": [
      "{'eval_loss': 0.06166393682360649, 'eval_accuracy': 0.9774436090225563, 'eval_precision': 0.9788533834586466, 'eval_recall': 0.9774436090225563, 'eval_f1': 0.9774093678218316, 'eval_runtime': 10.6375, 'eval_samples_per_second': 12.503, 'eval_steps_per_second': 0.846, 'epoch': 5.0}\n"
     ]
    },
    {
     "name": "stderr",
     "output_type": "stream",
     "text": [
      "100%|██████████| 325/325 [20:57<00:00,  3.87s/it]\n"
     ]
    },
    {
     "name": "stdout",
     "output_type": "stream",
     "text": [
      "{'train_runtime': 1257.9288, 'train_samples_per_second': 4.11, 'train_steps_per_second': 0.258, 'train_loss': 0.0741643524169922, 'epoch': 5.0}\n"
     ]
    },
    {
     "name": "stderr",
     "output_type": "stream",
     "text": [
      "100%|██████████| 8/8 [00:07<00:00,  1.00it/s]"
     ]
    },
    {
     "name": "stdout",
     "output_type": "stream",
     "text": [
      "Test Results: {'eval_loss': 0.1789647340774536, 'eval_accuracy': 0.9296875, 'eval_precision': 0.9312855113636362, 'eval_recall': 0.9296875, 'eval_f1': 0.9302153420241099, 'eval_runtime': 9.2052, 'eval_samples_per_second': 13.905, 'eval_steps_per_second': 0.869, 'epoch': 5.0}\n"
     ]
    },
    {
     "name": "stderr",
     "output_type": "stream",
     "text": [
      "\n"
     ]
    },
    {
     "data": {
      "text/plain": [
       "['./vit-beans-model/preprocessor_config.json']"
      ]
     },
     "execution_count": 4,
     "metadata": {},
     "output_type": "execute_result"
    }
   ],
   "source": [
    "# Step 6: Load Pre-trained ViT Model\n",
    "model = ViTForImageClassification.from_pretrained(\n",
    "    \"google/vit-base-patch16-224\",\n",
    "    num_labels=3,\n",
    "    id2label={0: \"angular_leaf_spot\", 1: \"bean_rust\", 2: \"healthy\"},\n",
    "    label2id={\"angular_leaf_spot\": 0, \"bean_rust\": 1, \"healthy\": 2},\n",
    "    ignore_mismatched_sizes=True\n",
    ")\n",
    "\n",
    "# Step 7: Define Metrics\n",
    "def compute_metrics(eval_pred):\n",
    "    logits, labels = eval_pred\n",
    "    predictions = np.argmax(logits, axis=-1)\n",
    "    precision, recall, f1, _ = precision_recall_fscore_support(labels, predictions, average=\"weighted\")\n",
    "    acc = accuracy_score(labels, predictions)\n",
    "    return {\"accuracy\": acc, \"precision\": precision, \"recall\": recall, \"f1\": f1}\n",
    "\n",
    "# Step 8: Define Training Arguments\n",
    "training_args = TrainingArguments(\n",
    "    output_dir=\"./vit-beans-model\",\n",
    "    evaluation_strategy=\"epoch\",\n",
    "    save_strategy=\"epoch\",\n",
    "    learning_rate=5e-5,\n",
    "    per_device_train_batch_size=16,\n",
    "    per_device_eval_batch_size=16,\n",
    "    num_train_epochs=5,\n",
    "    weight_decay=0.01,\n",
    "    logging_dir=\"./logs\",\n",
    "    load_best_model_at_end=True,\n",
    "    metric_for_best_model=\"accuracy\",\n",
    ")\n",
    "\n",
    "# Step 9: Create Trainer\n",
    "trainer = Trainer(\n",
    "    model=model,\n",
    "    args=training_args,\n",
    "    train_dataset=beans_data[\"train\"],\n",
    "    eval_dataset=beans_data[\"validation\"],\n",
    "    tokenizer=feature_extractor,\n",
    "    compute_metrics=compute_metrics,\n",
    ")\n",
    "\n",
    "# Step 10: Train the Model\n",
    "trainer.train()\n",
    "\n",
    "# Step 11: Evaluate on Test Data\n",
    "test_results = trainer.evaluate(eval_dataset=beans_data[\"test\"])\n",
    "print(\"Test Results:\", test_results)\n",
    "\n",
    "# Step 12: Save the Fine-Tuned Model\n",
    "model.save_pretrained(\"./vit-beans-model\")\n",
    "feature_extractor.save_pretrained(\"./vit-beans-model\")\n"
   ]
  },
  {
   "cell_type": "code",
   "execution_count": 5,
   "metadata": {},
   "outputs": [
    {
     "name": "stderr",
     "output_type": "stream",
     "text": [
      "100%|██████████| 8/8 [00:07<00:00,  1.04it/s]\n"
     ]
    },
    {
     "name": "stdout",
     "output_type": "stream",
     "text": [
      "                   precision    recall  f1-score   support\n",
      "\n",
      "Angular Leaf Spot       0.91      0.93      0.92        43\n",
      "        Bean Rust       0.89      0.91      0.90        43\n",
      "          Healthy       1.00      0.95      0.98        42\n",
      "\n",
      "         accuracy                           0.93       128\n",
      "        macro avg       0.93      0.93      0.93       128\n",
      "     weighted avg       0.93      0.93      0.93       128\n",
      "\n"
     ]
    },
    {
     "data": {
      "image/png": "[encoded data removed]",
      "text/plain": [
       "<Figure size 640x480 with 2 Axes>"
      ]
     },
     "metadata": {},
     "output_type": "display_data"
    }
   ],
   "source": [
    "from sklearn.metrics import confusion_matrix, classification_report, ConfusionMatrixDisplay\n",
    "\n",
    "# Make predictions on the test set\n",
    "predictions = trainer.predict(beans_data[\"test\"])\n",
    "\n",
    "# Extract logits and true labels\n",
    "logits = predictions.predictions\n",
    "true_labels = predictions.label_ids\n",
    "\n",
    "# Convert logits to predicted class indices\n",
    "predicted_labels = np.argmax(logits, axis=-1)\n",
    "\n",
    "# Generate a confusion matrix\n",
    "cm = confusion_matrix(true_labels, predicted_labels)\n",
    "\n",
    "# Display the confusion matrix\n",
    "disp = ConfusionMatrixDisplay(confusion_matrix=cm, display_labels=[\"Angular Leaf Spot\", \"Bean Rust\", \"Healthy\"])\n",
    "disp.plot(cmap=\"viridis\", values_format=\"d\")\n",
    "disp.figure_.suptitle(\"Confusion Matrix\")\n",
    "\n",
    "# Print classification report\n",
    "print(classification_report(true_labels, predicted_labels, target_names=[\"Angular Leaf Spot\", \"Bean Rust\", \"Healthy\"]))"
   ]
  }
 ],
 "metadata": {
  "kernelspec": {
   "display_name": ".venv",
   "language": "python",
   "name": "python3"
  },
  "language_info": {
   "codemirror_mode": {
    "name": "ipython",
    "version": 3
   },
   "file_extension": ".py",
   "mimetype": "text/x-python",
   "name": "python",
   "nbconvert_exporter": "python",
   "pygments_lexer": "ipython3",
   "version": "3.10.12"
  }
 },
 "nbformat": 4,
 "nbformat_minor": 2
}
